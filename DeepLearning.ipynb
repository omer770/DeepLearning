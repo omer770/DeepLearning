{
  "nbformat": 4,
  "nbformat_minor": 0,
  "metadata": {
    "colab": {
      "provenance": []
    },
    "kernelspec": {
      "name": "python3",
      "display_name": "Python 3"
    },
    "language_info": {
      "name": "python"
    }
  },
  "cells": [
    {
      "cell_type": "code",
      "execution_count": 1,
      "metadata": {
        "id": "S5t3MO_gXiV7"
      },
      "outputs": [],
      "source": [
        "import tensorflow as tf\n",
        "from tensorflow import keras"
      ]
    },
    {
      "cell_type": "code",
      "source": [
        "import numpy as np\n",
        "import pandas as pd"
      ],
      "metadata": {
        "id": "E3iBMYazZt3A"
      },
      "execution_count": 2,
      "outputs": []
    },
    {
      "cell_type": "code",
      "source": [
        "from keras.models import Sequential\n",
        "from keras.layers import Dense,Activation\n",
        "from keras.layers.core.flatten import Flatten\n",
        "#from keras.layers.convolutional import Conv2D\n",
        "from keras import backend as k\n",
        "from tensorflow.keras.optimizers import Adam\n",
        "from keras.metrics import categorical_crossentropy\n",
        "from keras.layers.convolutional import *\n",
        "from keras.layers.pooling import*"
      ],
      "metadata": {
        "id": "6VLpfAL9eVe5",
        "colab": {
          "base_uri": "https://localhost:8080/",
          "height": 374
        },
        "outputId": "c532538f-704c-4468-fd6b-83b3e0bdc145"
      },
      "execution_count": 3,
      "outputs": [
        {
          "output_type": "error",
          "ename": "ModuleNotFoundError",
          "evalue": "ignored",
          "traceback": [
            "\u001b[0;31m---------------------------------------------------------------------------\u001b[0m",
            "\u001b[0;31mModuleNotFoundError\u001b[0m                       Traceback (most recent call last)",
            "\u001b[0;32m<ipython-input-3-6a54bd8d51a7>\u001b[0m in \u001b[0;36m<module>\u001b[0;34m\u001b[0m\n\u001b[1;32m      1\u001b[0m \u001b[0;32mfrom\u001b[0m \u001b[0mkeras\u001b[0m\u001b[0;34m.\u001b[0m\u001b[0mmodels\u001b[0m \u001b[0;32mimport\u001b[0m \u001b[0mSequential\u001b[0m\u001b[0;34m\u001b[0m\u001b[0;34m\u001b[0m\u001b[0m\n\u001b[1;32m      2\u001b[0m \u001b[0;32mfrom\u001b[0m \u001b[0mkeras\u001b[0m\u001b[0;34m.\u001b[0m\u001b[0mlayers\u001b[0m \u001b[0;32mimport\u001b[0m \u001b[0mDense\u001b[0m\u001b[0;34m,\u001b[0m\u001b[0mActivation\u001b[0m\u001b[0;34m\u001b[0m\u001b[0;34m\u001b[0m\u001b[0m\n\u001b[0;32m----> 3\u001b[0;31m \u001b[0;32mfrom\u001b[0m \u001b[0mkeras\u001b[0m\u001b[0;34m.\u001b[0m\u001b[0mlayers\u001b[0m\u001b[0;34m.\u001b[0m\u001b[0mcore\u001b[0m\u001b[0;34m.\u001b[0m\u001b[0mflatten\u001b[0m \u001b[0;32mimport\u001b[0m \u001b[0mFlatten\u001b[0m\u001b[0;34m\u001b[0m\u001b[0;34m\u001b[0m\u001b[0m\n\u001b[0m\u001b[1;32m      4\u001b[0m \u001b[0;31m#from keras.layers.convolutional import Conv2D\u001b[0m\u001b[0;34m\u001b[0m\u001b[0;34m\u001b[0m\u001b[0;34m\u001b[0m\u001b[0m\n\u001b[1;32m      5\u001b[0m \u001b[0;32mfrom\u001b[0m \u001b[0mkeras\u001b[0m \u001b[0;32mimport\u001b[0m \u001b[0mbackend\u001b[0m \u001b[0;32mas\u001b[0m \u001b[0mk\u001b[0m\u001b[0;34m\u001b[0m\u001b[0;34m\u001b[0m\u001b[0m\n",
            "\u001b[0;31mModuleNotFoundError\u001b[0m: No module named 'keras.layers.core.flatten'",
            "",
            "\u001b[0;31m---------------------------------------------------------------------------\u001b[0;32m\nNOTE: If your import is failing due to a missing package, you can\nmanually install dependencies using either !pip or !apt.\n\nTo view examples of installing some common dependencies, click the\n\"Open Examples\" button below.\n\u001b[0;31m---------------------------------------------------------------------------\u001b[0m\n"
          ],
          "errorDetails": {
            "actions": [
              {
                "action": "open_url",
                "actionText": "Open Examples",
                "url": "/notebooks/snippets/importing_libraries.ipynb"
              }
            ]
          }
        }
      ]
    },
    {
      "cell_type": "code",
      "source": [
        "from keras.models import Sequential\n",
        "from keras.layers import Dense,Activation\n",
        "\n",
        "model = Sequential([\n",
        "    Dense(5, input_shape =(3,),activation='relu' ),\n",
        "    Dense(2,activation ='softmax')\n",
        "])\n"
      ],
      "metadata": {
        "id": "WQIHqSODYePK"
      },
      "execution_count": null,
      "outputs": []
    },
    {
      "cell_type": "code",
      "source": [],
      "metadata": {
        "id": "mMyV03ZOeP1f"
      },
      "execution_count": null,
      "outputs": []
    },
    {
      "cell_type": "code",
      "source": [
        "model = Sequential()\n",
        "model.add(Dense(5, input_shape = (3,), activation='relu'))\n",
        "model.add(Dense(2, activation='softmax'))"
      ],
      "metadata": {
        "id": "WI3UtkJbbEac"
      },
      "execution_count": null,
      "outputs": []
    },
    {
      "cell_type": "code",
      "source": [],
      "metadata": {
        "id": "8nqXpSf7fRAg"
      },
      "execution_count": null,
      "outputs": []
    },
    {
      "cell_type": "code",
      "source": [],
      "metadata": {
        "id": "pwP01tMPfQ94"
      },
      "execution_count": null,
      "outputs": []
    },
    {
      "cell_type": "code",
      "source": [
        "model = Sequential()\n",
        "model.add(Dense(16, input_shape = (10,), activation='relu'))\n",
        "model.add(Dense(32, activation='relu'))\n",
        "model.add(Dense(2, activation='softmax'))"
      ],
      "metadata": {
        "id": "weMhhDsAeVXR"
      },
      "execution_count": null,
      "outputs": []
    },
    {
      "cell_type": "code",
      "source": [
        "model.compile(Adam(learning_rate=0.0001), loss='sparse_categorical_crossentropy',metrics=['accuracy'])"
      ],
      "metadata": {
        "id": "GTwKEj2TdFgS"
      },
      "execution_count": null,
      "outputs": []
    },
    {
      "cell_type": "code",
      "source": [
        "'model.fit(scaled_train_samples, train_labels, batch_size=10, epochs=20, shuffle = True, verbose=2)'"
      ],
      "metadata": {
        "id": "6uIKZDNpfoRW"
      },
      "execution_count": null,
      "outputs": []
    },
    {
      "cell_type": "code",
      "source": [],
      "metadata": {
        "id": "0GgBuJf0ZoAk"
      },
      "execution_count": null,
      "outputs": []
    },
    {
      "cell_type": "code",
      "source": [
        "#Learning Rate\n",
        "model.compile(Adam(learning_rate=0.0001), loss='sparse_categorical_crossentropy',metrics=['accuracy'])\n",
        "#or\n",
        "model.optimizer.learning_rate= 0.001"
      ],
      "metadata": {
        "id": "QW7VhGGxnZjW"
      },
      "execution_count": null,
      "outputs": []
    },
    {
      "cell_type": "code",
      "source": [
        "#Train,test, validation"
      ],
      "metadata": {
        "id": "kjb07SvfnZfj"
      },
      "execution_count": null,
      "outputs": []
    },
    {
      "cell_type": "code",
      "source": [
        "#Data = train_data + validation_data + test_data(unlabeled@input)"
      ],
      "metadata": {
        "id": "Bcf7AREmogql"
      },
      "execution_count": null,
      "outputs": []
    },
    {
      "cell_type": "code",
      "source": [
        "'model.fit(scaled_train_samples, train_labels, validation_split = 0.2, batch_size=10, epochs=20, shuffle = True, verbose=2)'\n",
        "#20% split on train data for validation set"
      ],
      "metadata": {
        "colab": {
          "base_uri": "https://localhost:8080/",
          "height": 35
        },
        "id": "18JzJcVXo450",
        "outputId": "8b8e883b-4b21-463b-9525-1e71432deef4"
      },
      "execution_count": null,
      "outputs": [
        {
          "output_type": "execute_result",
          "data": {
            "text/plain": [
              "'model.fit(scaled_train_samples, train_labels, validation_split = 0.2, batch_size=10, epochs=20, shuffle = True, verbose=2)'"
            ],
            "application/vnd.google.colaboratory.intrinsic+json": {
              "type": "string"
            }
          },
          "metadata": {},
          "execution_count": 22
        }
      ]
    },
    {
      "cell_type": "code",
      "source": [
        "#explicit validation set\n",
        "'model.fit(scaled_train_samples, train_labels, validation_data = valid_set, batch_size=10, epochs=20, shuffle = True, verbose=2)'"
      ],
      "metadata": {
        "colab": {
          "base_uri": "https://localhost:8080/",
          "height": 35
        },
        "id": "6h6-j3uCpyY2",
        "outputId": "c30c27a6-8ff2-4020-efad-53862e4db2f3"
      },
      "execution_count": null,
      "outputs": [
        {
          "output_type": "execute_result",
          "data": {
            "text/plain": [
              "'model.fit(scaled_train_samples, train_labels, validation_data = valid_set, batch_size=10, epochs=20, shuffle = True, verbose=2)'"
            ],
            "application/vnd.google.colaboratory.intrinsic+json": {
              "type": "string"
            }
          },
          "metadata": {},
          "execution_count": 23
        }
      ]
    },
    {
      "cell_type": "code",
      "source": [
        "#valid_set format\n",
        "valid_set = [('sample','label'),('sample','label'),('sample','label'),('sample','label'),('sample','label'),('sample','label')]\n",
        "valid_set"
      ],
      "metadata": {
        "colab": {
          "base_uri": "https://localhost:8080/"
        },
        "id": "Yxc3cgmBqkue",
        "outputId": "2104fe24-cc75-4b02-dd95-8b8b6b79b8dd"
      },
      "execution_count": null,
      "outputs": [
        {
          "output_type": "execute_result",
          "data": {
            "text/plain": [
              "[('sample', 'label'),\n",
              " ('sample', 'label'),\n",
              " ('sample', 'label'),\n",
              " ('sample', 'label'),\n",
              " ('sample', 'label'),\n",
              " ('sample', 'label')]"
            ]
          },
          "metadata": {},
          "execution_count": 24
        }
      ]
    },
    {
      "cell_type": "code",
      "source": [],
      "metadata": {
        "id": "rf9P8zIEq62h"
      },
      "execution_count": null,
      "outputs": []
    },
    {
      "cell_type": "code",
      "source": [
        "#predict method"
      ],
      "metadata": {
        "id": "8WB1tp0hrSTR"
      },
      "execution_count": null,
      "outputs": []
    },
    {
      "cell_type": "code",
      "source": [
        "prediction = 'model.predict(scaled_train_samples,batch_size=10, verbose = 0)'\n",
        "prediction"
      ],
      "metadata": {
        "colab": {
          "base_uri": "https://localhost:8080/",
          "height": 35
        },
        "id": "H_VBfMl7rVuA",
        "outputId": "b1e147a2-3d1d-466e-fad4-13b568d30c37"
      },
      "execution_count": null,
      "outputs": [
        {
          "output_type": "execute_result",
          "data": {
            "text/plain": [
              "'model.predict(scaled_train_samples,batch_size=10, verbose = 0)'"
            ],
            "application/vnd.google.colaboratory.intrinsic+json": {
              "type": "string"
            }
          },
          "metadata": {},
          "execution_count": 27
        }
      ]
    },
    {
      "cell_type": "code",
      "source": [
        "#for prediction n test samples and seeing the results"
      ],
      "metadata": {
        "id": "YrcozuxvsDSi"
      },
      "execution_count": null,
      "outputs": []
    },
    {
      "cell_type": "code",
      "source": [
        "for i in prediction:\n",
        "  print(i)"
      ],
      "metadata": {
        "id": "tqJQcyALsDVR"
      },
      "execution_count": null,
      "outputs": []
    },
    {
      "cell_type": "code",
      "source": [],
      "metadata": {
        "id": "A58MVoHUsDNH"
      },
      "execution_count": null,
      "outputs": []
    },
    {
      "cell_type": "code",
      "source": [],
      "metadata": {
        "id": "fa3jdIhitNsV"
      },
      "execution_count": null,
      "outputs": []
    },
    {
      "cell_type": "markdown",
      "source": [
        "##Overfitting in a NN"
      ],
      "metadata": {
        "id": "vpxgot5AWIc2"
      }
    },
    {
      "cell_type": "code",
      "source": [
        "\"model.fit(scaled_train_samples, train_labels, validation_split = 0.20, batch_size = 10, epochs = 20, shuffle = True, verbose = 2)\""
      ],
      "metadata": {
        "id": "Pq7kbYAStR4s",
        "colab": {
          "base_uri": "https://localhost:8080/",
          "height": 35
        },
        "outputId": "0d8458fe-be09-43fe-c49f-d3552767a1cd"
      },
      "execution_count": null,
      "outputs": [
        {
          "output_type": "execute_result",
          "data": {
            "text/plain": [
              "'model.fit(scaled_train_samples, train_labels, validation_split = 0.20, batch_size = 10, epochs = 20, shuffle = True, verbose = 2)'"
            ],
            "application/vnd.google.colaboratory.intrinsic+json": {
              "type": "string"
            }
          },
          "metadata": {},
          "execution_count": 4
        }
      ]
    },
    {
      "cell_type": "code",
      "source": [
        "#WE can observe from the above validation and model accuracies, whether our model has overfitted"
      ],
      "metadata": {
        "id": "_LrvOdElUcAZ"
      },
      "execution_count": null,
      "outputs": []
    },
    {
      "cell_type": "markdown",
      "source": [
        "To reduce overfitting:\n",
        "\n",
        "1.   Add more data.\n",
        "2.   Use Data Augmentation\n",
        "1.   Reduce the complexity of the model\n",
        "2.   Dropouts(drops out neuron randomly) \n",
        "\n",
        "\n",
        "\n"
      ],
      "metadata": {
        "id": "b1oA8QI_VCB-"
      }
    },
    {
      "cell_type": "code",
      "source": [],
      "metadata": {
        "id": "C9V_ymROUxVl"
      },
      "execution_count": null,
      "outputs": []
    },
    {
      "cell_type": "markdown",
      "source": [
        "##Underfitting in a NN"
      ],
      "metadata": {
        "id": "42mUsPP1WMlF"
      }
    },
    {
      "cell_type": "markdown",
      "source": [
        "It occurs when the model fails to learn the parameters or when the model loss is very high when training \n",
        "\n",
        "To reduce overfitting:\n",
        "\n",
        "1.   Add more data features.\n",
        "1.   Increase the complexity of the model.\n",
        "2.   Reduce dropouts."
      ],
      "metadata": {
        "id": "xltzAK8pWhHI"
      }
    },
    {
      "cell_type": "code",
      "source": [],
      "metadata": {
        "id": "g2Nl79pUWQ78"
      },
      "execution_count": null,
      "outputs": []
    },
    {
      "cell_type": "markdown",
      "source": [
        "##Supervised Learning"
      ],
      "metadata": {
        "id": "ImSAg-7EXjkN"
      }
    },
    {
      "cell_type": "markdown",
      "source": [
        "Train data and validation data is passed witth labels for training."
      ],
      "metadata": {
        "id": "XYb36jhoXulV"
      }
    },
    {
      "cell_type": "code",
      "source": [
        "model = Sequential()\n",
        "\n",
        "model.add(Dense(16,input_shape=(2,), activation = 'relu'))\n",
        "model.add(Dense(32, activation = 'relu'))\n",
        "model.add(Dense(2, activation = 'sigmoid'))"
      ],
      "metadata": {
        "id": "BuF0h0R3XsFF"
      },
      "execution_count": null,
      "outputs": []
    },
    {
      "cell_type": "code",
      "source": [
        "model.compile(Adam(learning_rate=0.0001), loss = 'sparse_categorical_crossentropy', metrics=['accuracy'])"
      ],
      "metadata": {
        "id": "NUsy8B5jY2E6"
      },
      "execution_count": null,
      "outputs": []
    },
    {
      "cell_type": "code",
      "source": [
        "#weight,height\n",
        "train_samples = [[150,67],[130,60],[200,64],[125,52],[230,72],[181,70]]"
      ],
      "metadata": {
        "id": "PPs37UdKZSEO"
      },
      "execution_count": null,
      "outputs": []
    },
    {
      "cell_type": "code",
      "source": [
        "train_samples"
      ],
      "metadata": {
        "colab": {
          "base_uri": "https://localhost:8080/"
        },
        "id": "DOZqp2WAZsVf",
        "outputId": "6b4bc553-2853-459e-c168-1b0c6574d192"
      },
      "execution_count": null,
      "outputs": [
        {
          "output_type": "execute_result",
          "data": {
            "text/plain": [
              "[[150, 67], [130, 60], [200, 64], [125, 52], [230, 72], [181, 70]]"
            ]
          },
          "metadata": {},
          "execution_count": 9
        }
      ]
    },
    {
      "cell_type": "code",
      "source": [
        "#0: male\n",
        "#1: Female\n",
        "train_labels = [1,1,0,1,0,0]"
      ],
      "metadata": {
        "id": "qIAPW7g5Zuuv"
      },
      "execution_count": null,
      "outputs": []
    },
    {
      "cell_type": "code",
      "source": [
        "model.fit(x=train_samples, y= train_labels, batch_size=3, epochs=30, shuffle=True, verbose = 2)"
      ],
      "metadata": {
        "colab": {
          "base_uri": "https://localhost:8080/"
        },
        "id": "igf8WX8TZ_mb",
        "outputId": "1e173b78-d7b9-4399-9340-e9131bd18ea6"
      },
      "execution_count": null,
      "outputs": [
        {
          "output_type": "stream",
          "name": "stdout",
          "text": [
            "Epoch 1/30\n",
            "2/2 - 0s - loss: 26.4204 - accuracy: 0.5000 - 374ms/epoch - 187ms/step\n",
            "Epoch 2/30\n",
            "2/2 - 0s - loss: 25.9566 - accuracy: 0.5000 - 9ms/epoch - 5ms/step\n",
            "Epoch 3/30\n",
            "2/2 - 0s - loss: 25.4949 - accuracy: 0.5000 - 9ms/epoch - 5ms/step\n",
            "Epoch 4/30\n",
            "2/2 - 0s - loss: 25.0630 - accuracy: 0.5000 - 12ms/epoch - 6ms/step\n",
            "Epoch 5/30\n",
            "2/2 - 0s - loss: 24.6074 - accuracy: 0.5000 - 9ms/epoch - 4ms/step\n",
            "Epoch 6/30\n",
            "2/2 - 0s - loss: 24.1761 - accuracy: 0.5000 - 9ms/epoch - 4ms/step\n",
            "Epoch 7/30\n",
            "2/2 - 0s - loss: 23.8096 - accuracy: 0.5000 - 11ms/epoch - 5ms/step\n",
            "Epoch 8/30\n",
            "2/2 - 0s - loss: 23.3175 - accuracy: 0.5000 - 10ms/epoch - 5ms/step\n",
            "Epoch 9/30\n",
            "2/2 - 0s - loss: 22.8326 - accuracy: 0.5000 - 9ms/epoch - 5ms/step\n",
            "Epoch 10/30\n",
            "2/2 - 0s - loss: 22.4981 - accuracy: 0.5000 - 10ms/epoch - 5ms/step\n",
            "Epoch 11/30\n",
            "2/2 - 0s - loss: 22.0159 - accuracy: 0.5000 - 12ms/epoch - 6ms/step\n",
            "Epoch 12/30\n",
            "2/2 - 0s - loss: 21.6533 - accuracy: 0.5000 - 10ms/epoch - 5ms/step\n",
            "Epoch 13/30\n",
            "2/2 - 0s - loss: 21.2389 - accuracy: 0.5000 - 10ms/epoch - 5ms/step\n",
            "Epoch 14/30\n",
            "2/2 - 0s - loss: 20.8134 - accuracy: 0.5000 - 11ms/epoch - 5ms/step\n",
            "Epoch 15/30\n",
            "2/2 - 0s - loss: 20.3186 - accuracy: 0.5000 - 10ms/epoch - 5ms/step\n",
            "Epoch 16/30\n",
            "2/2 - 0s - loss: 19.9740 - accuracy: 0.5000 - 10ms/epoch - 5ms/step\n",
            "Epoch 17/30\n",
            "2/2 - 0s - loss: 19.6127 - accuracy: 0.5000 - 12ms/epoch - 6ms/step\n",
            "Epoch 18/30\n",
            "2/2 - 0s - loss: 19.1057 - accuracy: 0.5000 - 12ms/epoch - 6ms/step\n",
            "Epoch 19/30\n",
            "2/2 - 0s - loss: 18.7016 - accuracy: 0.5000 - 12ms/epoch - 6ms/step\n",
            "Epoch 20/30\n",
            "2/2 - 0s - loss: 18.2715 - accuracy: 0.5000 - 9ms/epoch - 5ms/step\n",
            "Epoch 21/30\n",
            "2/2 - 0s - loss: 17.7935 - accuracy: 0.5000 - 11ms/epoch - 6ms/step\n",
            "Epoch 22/30\n",
            "2/2 - 0s - loss: 17.3838 - accuracy: 0.5000 - 10ms/epoch - 5ms/step\n",
            "Epoch 23/30\n",
            "2/2 - 0s - loss: 17.0326 - accuracy: 0.5000 - 10ms/epoch - 5ms/step\n",
            "Epoch 24/30\n",
            "2/2 - 0s - loss: 16.5576 - accuracy: 0.5000 - 11ms/epoch - 5ms/step\n",
            "Epoch 25/30\n",
            "2/2 - 0s - loss: 16.1321 - accuracy: 0.5000 - 10ms/epoch - 5ms/step\n",
            "Epoch 26/30\n",
            "2/2 - 0s - loss: 15.7230 - accuracy: 0.5000 - 11ms/epoch - 5ms/step\n",
            "Epoch 27/30\n",
            "2/2 - 0s - loss: 15.3020 - accuracy: 0.5000 - 16ms/epoch - 8ms/step\n",
            "Epoch 28/30\n",
            "2/2 - 0s - loss: 14.8710 - accuracy: 0.5000 - 11ms/epoch - 6ms/step\n",
            "Epoch 29/30\n",
            "2/2 - 0s - loss: 14.5093 - accuracy: 0.5000 - 10ms/epoch - 5ms/step\n",
            "Epoch 30/30\n",
            "2/2 - 0s - loss: 14.0884 - accuracy: 0.5000 - 10ms/epoch - 5ms/step\n"
          ]
        },
        {
          "output_type": "execute_result",
          "data": {
            "text/plain": [
              "<keras.callbacks.History at 0x7f507b495e50>"
            ]
          },
          "metadata": {},
          "execution_count": 19
        }
      ]
    },
    {
      "cell_type": "code",
      "source": [],
      "metadata": {
        "id": "jvv755oeaTWP"
      },
      "execution_count": null,
      "outputs": []
    },
    {
      "cell_type": "markdown",
      "source": [
        "##Data Augmentaion"
      ],
      "metadata": {
        "id": "VF1Cs6obbQ7N"
      }
    },
    {
      "cell_type": "markdown",
      "source": [
        "Creating new data from existing data\n",
        "such as flipping,\n",
        "+ To reduce overfitting"
      ],
      "metadata": {
        "id": "tvdKonNJcBR9"
      }
    },
    {
      "cell_type": "markdown",
      "source": [
        "##One hot encodings"
      ],
      "metadata": {
        "id": "ruZSrFV1c0y2"
      }
    },
    {
      "cell_type": "markdown",
      "source": [
        "for image classifers . model can understand numerical data."
      ],
      "metadata": {
        "id": "5EoNDPZ_c9QO"
      }
    },
    {
      "cell_type": "markdown",
      "source": [
        "[Cat, Dog , Lizard] = [1,0,0] or [0,1,0]"
      ],
      "metadata": {
        "id": "ZJnW_CqRdSVb"
      }
    },
    {
      "cell_type": "code",
      "source": [],
      "metadata": {
        "id": "5SxAqgZ_bRkU"
      },
      "execution_count": null,
      "outputs": []
    },
    {
      "cell_type": "markdown",
      "source": [
        "##CNN"
      ],
      "metadata": {
        "id": "xKPiCrVbd-QD"
      }
    },
    {
      "cell_type": "markdown",
      "source": [
        "Convolution layer has filters tha may predict patterns or edges in initial layers. At the end Conv layer may detect objects.\n",
        "\n",
        "Flter size is hyper parameter\n"
      ],
      "metadata": {
        "id": "Qk1kC8IaeF7N"
      }
    },
    {
      "cell_type": "code",
      "source": [
        "#Visuallze Convolution Filters from a Cnn\n",
        "print('model = vgg16.VGG16(weights= \"Images\", include_top=False)')"
      ],
      "metadata": {
        "colab": {
          "base_uri": "https://localhost:8080/"
        },
        "id": "0nr6dL1Jd_sA",
        "outputId": "0dbaba92-7fe6-4805-bc94-11d5540fade3"
      },
      "execution_count": null,
      "outputs": [
        {
          "output_type": "stream",
          "name": "stdout",
          "text": [
            "model = vgg16.VGG16(weights= \"Images\", include_top=False)\n"
          ]
        }
      ]
    },
    {
      "cell_type": "code",
      "source": [
        "model.summary()\n",
        "\n",
        "#this is the placeholder for the input images\n",
        "input_img = model.input\n",
        "\n",
        "#get the symbolic outputs of each key layers \n",
        "layer_dict = dict([layer.name, layer) for layer in model.layers[1:]])"
      ],
      "metadata": {
        "id": "TY-XXWFjkeNO"
      },
      "execution_count": null,
      "outputs": []
    },
    {
      "cell_type": "code",
      "source": [],
      "metadata": {
        "id": "USyOk7VZlhGq"
      },
      "execution_count": null,
      "outputs": []
    },
    {
      "cell_type": "markdown",
      "source": [
        "##Zero padding"
      ],
      "metadata": {
        "id": "74RGgCFv7k7v"
      }
    },
    {
      "cell_type": "markdown",
      "source": [
        "input(n) 4x4   *   filter(k) 3x3  =  Output 2x2\n",
        "\n",
        "formula => output =  (n - k + 1)\n",
        "\n",
        "        => 4-3+1 = 2"
      ],
      "metadata": {
        "id": "mdbBdkebCSrv"
      }
    },
    {
      "cell_type": "markdown",
      "source": [
        "zero padding allows us to preserve the input size after convolving\n",
        "\n",
        "input(n = 4, p = 1) 6x6    *   filter(k) 3x3  =  Output 4x4\n",
        "\n",
        "formula to get same input sized output =>  (n - k + 1+2p)\n",
        "\n",
        "Padding:\n",
        "\n",
        "1.   valid: no padding\n",
        "2.   same: input size = output size\n",
        "\n"
      ],
      "metadata": {
        "id": "4Yo7rr-kDg72"
      }
    },
    {
      "cell_type": "code",
      "source": [
        "from keras.layers.core.flatten import Flatten\n",
        "from keras.layers.convolutional import Conv2D\n",
        "model_valid = Sequential([\n",
        "    Dense(16, activation= 'relu', input_shape = (20,20,3)),\n",
        "    Conv2D(32, kernel_size = (3,3), activation='relu', padding='valid'),\n",
        "    Conv2D(64, kernel_size = (5,5), activation='relu', padding='valid'),\n",
        "    Conv2D(128, kernel_size = (7,7), activation='relu', padding='valid'),\n",
        "    Flatten(),\n",
        "    Dense(2, activation='softmax')\n",
        "])"
      ],
      "metadata": {
        "id": "dtVfAcWB7wGn"
      },
      "execution_count": null,
      "outputs": []
    },
    {
      "cell_type": "code",
      "source": [
        "model_valid.summary()"
      ],
      "metadata": {
        "colab": {
          "base_uri": "https://localhost:8080/"
        },
        "id": "1qSkrpFBGNGl",
        "outputId": "078eaa28-fd54-4589-81f5-fab0343b20d1"
      },
      "execution_count": null,
      "outputs": [
        {
          "output_type": "stream",
          "name": "stdout",
          "text": [
            "Model: \"sequential_1\"\n",
            "_________________________________________________________________\n",
            " Layer (type)                Output Shape              Param #   \n",
            "=================================================================\n",
            " dense_2 (Dense)             (None, 20, 20, 16)        64        \n",
            "                                                                 \n",
            " conv2d_3 (Conv2D)           (None, 18, 18, 32)        4640      \n",
            "                                                                 \n",
            " conv2d_4 (Conv2D)           (None, 14, 14, 64)        51264     \n",
            "                                                                 \n",
            " conv2d_5 (Conv2D)           (None, 8, 8, 128)         401536    \n",
            "                                                                 \n",
            " flatten_1 (Flatten)         (None, 8192)              0         \n",
            "                                                                 \n",
            " dense_3 (Dense)             (None, 2)                 16386     \n",
            "                                                                 \n",
            "=================================================================\n",
            "Total params: 473,890\n",
            "Trainable params: 473,890\n",
            "Non-trainable params: 0\n",
            "_________________________________________________________________\n"
          ]
        }
      ]
    },
    {
      "cell_type": "code",
      "source": [
        "model_same = Sequential([\n",
        "    Dense(16, activation= 'relu', input_shape = (20,20,3)),\n",
        "    Conv2D(32, kernel_size = (3,3), activation='relu', padding='same'),\n",
        "    Conv2D(64, kernel_size = (5,5), activation='relu', padding='same'),\n",
        "    Conv2D(128, kernel_size = (7,7), activation='relu', padding='same'),\n",
        "    Flatten(),\n",
        "    Dense(2, activation='softmax')\n",
        "])"
      ],
      "metadata": {
        "id": "oG3-6ZXkGSom"
      },
      "execution_count": null,
      "outputs": []
    },
    {
      "cell_type": "code",
      "source": [
        "model_same.summary()"
      ],
      "metadata": {
        "colab": {
          "base_uri": "https://localhost:8080/"
        },
        "id": "WyqnW9LuG6nN",
        "outputId": "94c1a452-86d4-4c2e-e876-59c003ab456f"
      },
      "execution_count": null,
      "outputs": [
        {
          "output_type": "stream",
          "name": "stdout",
          "text": [
            "Model: \"sequential_3\"\n",
            "_________________________________________________________________\n",
            " Layer (type)                Output Shape              Param #   \n",
            "=================================================================\n",
            " dense_6 (Dense)             (None, 20, 20, 16)        64        \n",
            "                                                                 \n",
            " conv2d_9 (Conv2D)           (None, 20, 20, 32)        4640      \n",
            "                                                                 \n",
            " conv2d_10 (Conv2D)          (None, 20, 20, 64)        51264     \n",
            "                                                                 \n",
            " conv2d_11 (Conv2D)          (None, 20, 20, 128)       401536    \n",
            "                                                                 \n",
            " flatten_3 (Flatten)         (None, 51200)             0         \n",
            "                                                                 \n",
            " dense_7 (Dense)             (None, 2)                 102402    \n",
            "                                                                 \n",
            "=================================================================\n",
            "Total params: 559,906\n",
            "Trainable params: 559,906\n",
            "Non-trainable params: 0\n",
            "_________________________________________________________________\n"
          ]
        }
      ]
    },
    {
      "cell_type": "code",
      "source": [],
      "metadata": {
        "id": "Bt2riWMkG-nt"
      },
      "execution_count": null,
      "outputs": []
    },
    {
      "cell_type": "markdown",
      "source": [
        "##Max pooling"
      ],
      "metadata": {
        "id": "kKspjnnKHQol"
      }
    },
    {
      "cell_type": "markdown",
      "source": [
        "Reduces the size of images. to obtain efficient results\n",
        "\n",
        "Filter size (k) = 2x2\n",
        "\n",
        "stride(s) => step size = 2\n",
        "\n",
        "input 26x26 (*) Maxpool => 13x13\n"
      ],
      "metadata": {
        "id": "-xMOSctvH2V2"
      }
    },
    {
      "cell_type": "code",
      "source": [
        "model_pool = Sequential([\n",
        "    Dense(16, activation= 'relu', input_shape= (20,20,3)),\n",
        "    Conv2D(32, kernel_size= (3,3), activation= 'relu', padding= 'same'),\n",
        "    MaxPooling2D(pool_size= (2,2), strides=2, padding= 'valid'),\n",
        "    Conv2D(64, kernel_size= (5,5), activation= 'relu', padding= 'same'),\n",
        "    Flatten(),\n",
        "    Dense(2, activation = 'softmax'),\n",
        "])"
      ],
      "metadata": {
        "id": "GnkMnHtVHTMl"
      },
      "execution_count": null,
      "outputs": []
    },
    {
      "cell_type": "code",
      "source": [
        "model_pool.summary()"
      ],
      "metadata": {
        "colab": {
          "base_uri": "https://localhost:8080/"
        },
        "id": "u1HPSjkrQB2W",
        "outputId": "a8fa2c0a-d777-4895-8d89-226dc05ac097"
      },
      "execution_count": null,
      "outputs": [
        {
          "output_type": "stream",
          "name": "stdout",
          "text": [
            "Model: \"sequential_4\"\n",
            "_________________________________________________________________\n",
            " Layer (type)                Output Shape              Param #   \n",
            "=================================================================\n",
            " dense_8 (Dense)             (None, 20, 20, 16)        64        \n",
            "                                                                 \n",
            " conv2d_12 (Conv2D)          (None, 20, 20, 32)        4640      \n",
            "                                                                 \n",
            " max_pooling2d (MaxPooling2D  (None, 10, 10, 32)       0         \n",
            " )                                                               \n",
            "                                                                 \n",
            " conv2d_13 (Conv2D)          (None, 10, 10, 64)        51264     \n",
            "                                                                 \n",
            " flatten_4 (Flatten)         (None, 6400)              0         \n",
            "                                                                 \n",
            " dense_9 (Dense)             (None, 2)                 12802     \n",
            "                                                                 \n",
            "=================================================================\n",
            "Total params: 68,770\n",
            "Trainable params: 68,770\n",
            "Non-trainable params: 0\n",
            "_________________________________________________________________\n"
          ]
        }
      ]
    },
    {
      "cell_type": "code",
      "source": [],
      "metadata": {
        "id": "QoKcX4scQIOH"
      },
      "execution_count": null,
      "outputs": []
    },
    {
      "cell_type": "markdown",
      "source": [
        "##Backpropagation explained"
      ],
      "metadata": {
        "id": "y7oQv3EsQqo2"
      }
    },
    {
      "cell_type": "markdown",
      "source": [
        "The inputs are fed to the model. The Model Calculates the output and the compairs with the given target values and forms loss.\n",
        "\n",
        "The loss is then fed back and the weights gets updated by calculating the gradients( d(loss)/d(weights) )"
      ],
      "metadata": {
        "id": "n676vmtKRBB5"
      }
    },
    {
      "cell_type": "markdown",
      "source": [
        "###Loss 'Co'\n",
        "Its the squared difference of the activation output and the desired output for the node j in the output layer L.\n",
        "\n",
        "    l = (aj-yj)^2\n",
        "The Total loss sum of each squared distances at nodes:\n",
        "\n",
        "    Co = sum((aj-yj)^2)\n",
        "\n",
        "###Input Zj\n",
        "Input to the node j in layer l is weighted sum of the activation outputs from the previous layer l-1\n",
        "\n",
        "    Zj = sum(wjk*ak)\n",
        "\n",
        "###Activation Output aj\n",
        "Its the activation(g) of the value that was passed as input Zj.\n",
        "\n",
        "    aj = g(zj)"
      ],
      "metadata": {
        "id": "NNrmkz4DbycL"
      }
    },
    {
      "cell_type": "markdown",
      "source": [
        "### Expressing 'Co' as the compositions of functions\n",
        "loss is => \n",
        "\n",
        "    Coj(aj)\n",
        "\n",
        "The activation output=>\n",
        "\n",
        "    aj = g(Zj)\n",
        "  \n",
        "The Input for node j =>\n",
        "\n",
        "    Zj = Zj(wj)\n",
        "    #Zj is the function  wj\n",
        "Therefore,\n",
        "\n",
        "    Coj = Coj(aj(zj(wj)))\n",
        "\n",
        "To differentiate a composition of functions, we use the chain rule."
      ],
      "metadata": {
        "id": "2hPV3rl2h3di"
      }
    },
    {
      "cell_type": "markdown",
      "source": [
        "##Calculating the gradient\n",
        "\n",
        "consider w12,\n",
        "\n",
        "We need to find d(Co)/dw12\n",
        "\n",
        "\n",
        "    d(Co)/dw12 = (d(Co)/da1)(da1/dz1)(dz1/dw12)\n",
        "\n",
        "    dCo/da1 = d/da1 [sum((aj-yj)^2)]\n",
        "            = 2(a1-y1)\n",
        "\n",
        "    da1/dz1 = d/dz1 [g(z1)]\n",
        "            = g'(z1)\n",
        "    \n",
        "    dz1/dw12 = d/dw12 [sum(wjk*ak)]\n",
        "            = a2\n",
        "\n",
        "    d(Co)/dw12 = 2(a1-y1)(g'(z1))(a2)\n",
        "\n",
        "For n training samples:\n",
        "\n",
        "    d(Co)/dw12 = 1/n*sum(dCoi/dw12)"
      ],
      "metadata": {
        "id": "Dck0BXfDkCkp"
      }
    },
    {
      "cell_type": "markdown",
      "source": [
        "##Vanishing Gradient \n",
        "Due to Back prop \n",
        "- Also known as unstable gradients(The gradients of the loss WRT the Weights)\n"
      ],
      "metadata": {
        "id": "PvD6bVg3_bih"
      }
    },
    {
      "cell_type": "markdown",
      "source": [
        "**What is the Vanishing Gradient Problem?**\n",
        "- It involves weights in the earlier layers of network at he training phase. \n",
        "- The grad becomes very small at the initial part of the training.\n",
        "- When the grad is vanishingly small, the update will also be vanishingly small, Hence no significant update or leaning will happen.\n",
        "\n",
        "**How does this problem occur?**\n",
        "- We know that the earier in the network the weight lives the more terms will be needed in the product that we get to calculate the grad.\n",
        "- Then if these weights are small, the product becoumes even more smaller hence vanishes.\n",
        "- Therefore there wont be much update, The weight will be in a kind of stuck state.\n",
        "\n",
        "**What about the Gradient that Explodes?**\n",
        "- Now imagaine that we are calculating the grad WRT to the same weight but instead of small terms what if they were large(>1).\n",
        "- So the more of thesee larger value terms we have being multiplied together the larger the gradents is goin to be.\n",
        "- Thus exploding in size.\n",
        "- The updates of the weights will lead to move futher away from its optimal value.\n",
        "\n",
        "\n"
      ],
      "metadata": {
        "id": "5xW9nfFNB8Wa"
      }
    },
    {
      "cell_type": "markdown",
      "source": [
        "##Weight Initialization Explained \n",
        "A way to reduce the vanishing gradients.\n"
      ],
      "metadata": {
        "id": "qHxH1EtfICiP"
      }
    },
    {
      "cell_type": "markdown",
      "source": [
        "**How are weigths initailized ?**\n",
        "- Weigths are usually initalized randomly(STD Normal Distribution)\n"
      ],
      "metadata": {
        "id": "JfRMY5pkIcyW"
      }
    },
    {
      "cell_type": "code",
      "source": [],
      "metadata": {
        "id": "1V5mYfnNQ-7G"
      },
      "execution_count": null,
      "outputs": []
    }
  ]
}