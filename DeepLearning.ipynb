{
  "nbformat": 4,
  "nbformat_minor": 0,
  "metadata": {
    "colab": {
      "provenance": []
    },
    "kernelspec": {
      "name": "python3",
      "display_name": "Python 3"
    },
    "language_info": {
      "name": "python"
    }
  },
  "cells": [
    {
      "cell_type": "code",
      "execution_count": null,
      "metadata": {
        "id": "S5t3MO_gXiV7"
      },
      "outputs": [],
      "source": [
        "import tensorflow as tf\n",
        "from tensorflow import keras"
      ]
    },
    {
      "cell_type": "code",
      "source": [
        "import numpy as np\n",
        "import pandas as pd"
      ],
      "metadata": {
        "id": "E3iBMYazZt3A"
      },
      "execution_count": null,
      "outputs": []
    },
    {
      "cell_type": "code",
      "source": [],
      "metadata": {
        "id": "mMyV03ZOeP1f"
      },
      "execution_count": null,
      "outputs": []
    },
    {
      "cell_type": "code",
      "source": [
        "from keras.models import Sequential\n",
        "from keras.layers import Dense,Activation\n",
        "\n",
        "model = Sequential([\n",
        "    Dense(5, input_shape =(3,),activation='relu' ),\n",
        "    Dense(2,activation ='softmax')\n",
        "])\n"
      ],
      "metadata": {
        "id": "WQIHqSODYePK"
      },
      "execution_count": null,
      "outputs": []
    },
    {
      "cell_type": "code",
      "source": [
        "model = Sequential()\n",
        "model.add(Dense(5, input_shape = (3,), activation='relu'))\n",
        "model.add(Dense(2, activation='softmax'))"
      ],
      "metadata": {
        "id": "WI3UtkJbbEac"
      },
      "execution_count": null,
      "outputs": []
    },
    {
      "cell_type": "code",
      "source": [],
      "metadata": {
        "id": "8nqXpSf7fRAg"
      },
      "execution_count": null,
      "outputs": []
    },
    {
      "cell_type": "code",
      "source": [],
      "metadata": {
        "id": "pwP01tMPfQ94"
      },
      "execution_count": null,
      "outputs": []
    },
    {
      "cell_type": "code",
      "source": [
        "from keras.models import Sequential\n",
        "from keras.layers import Dense,Activation\n",
        "from keras import backend as k\n",
        "from tensorflow.keras.optimizers import Adam\n",
        "from keras.metrics import categorical_crossentropy"
      ],
      "metadata": {
        "id": "6VLpfAL9eVe5"
      },
      "execution_count": null,
      "outputs": []
    },
    {
      "cell_type": "code",
      "source": [
        "model = Sequential()\n",
        "model.add(Dense(16, input_shape = (1,), activation='relu'))\n",
        "model.add(Dense(32, activation='relu'))\n",
        "model.add(Dense(2, activation='softmax'))"
      ],
      "metadata": {
        "id": "weMhhDsAeVXR"
      },
      "execution_count": null,
      "outputs": []
    },
    {
      "cell_type": "code",
      "source": [
        "model.compile(Adam(learning_rate=0.0001), loss='sparse_categorical_crossentropy',metrics=['accuracy'])"
      ],
      "metadata": {
        "id": "GTwKEj2TdFgS"
      },
      "execution_count": null,
      "outputs": []
    },
    {
      "cell_type": "code",
      "source": [
        "'model.fit(scaled_train_samples, train_labels, batch_size=10, epochs=20, shuffle = True, verbose=2)'"
      ],
      "metadata": {
        "id": "6uIKZDNpfoRW"
      },
      "execution_count": null,
      "outputs": []
    },
    {
      "cell_type": "code",
      "source": [],
      "metadata": {
        "id": "0GgBuJf0ZoAk"
      },
      "execution_count": null,
      "outputs": []
    },
    {
      "cell_type": "code",
      "source": [
        "#Learning Rate\n",
        "model.compile(Adam(learning_rate=0.0001), loss='sparse_categorical_crossentropy',metrics=['accuracy'])\n",
        "#or\n",
        "model.optimizer.learning_rate= 0.001"
      ],
      "metadata": {
        "id": "QW7VhGGxnZjW"
      },
      "execution_count": null,
      "outputs": []
    },
    {
      "cell_type": "code",
      "source": [
        "#Train,test, validation"
      ],
      "metadata": {
        "id": "kjb07SvfnZfj"
      },
      "execution_count": null,
      "outputs": []
    },
    {
      "cell_type": "code",
      "source": [
        "#Data = train_data + validation_data + test_data(unlabeled@input)"
      ],
      "metadata": {
        "id": "Bcf7AREmogql"
      },
      "execution_count": null,
      "outputs": []
    },
    {
      "cell_type": "code",
      "source": [
        "'model.fit(scaled_train_samples, train_labels, validation_split = 0.2, batch_size=10, epochs=20, shuffle = True, verbose=2)'\n",
        "#20% split on train data for validation set"
      ],
      "metadata": {
        "colab": {
          "base_uri": "https://localhost:8080/",
          "height": 35
        },
        "id": "18JzJcVXo450",
        "outputId": "8b8e883b-4b21-463b-9525-1e71432deef4"
      },
      "execution_count": null,
      "outputs": [
        {
          "output_type": "execute_result",
          "data": {
            "text/plain": [
              "'model.fit(scaled_train_samples, train_labels, validation_split = 0.2, batch_size=10, epochs=20, shuffle = True, verbose=2)'"
            ],
            "application/vnd.google.colaboratory.intrinsic+json": {
              "type": "string"
            }
          },
          "metadata": {},
          "execution_count": 22
        }
      ]
    },
    {
      "cell_type": "code",
      "source": [
        "#explicit validation set\n",
        "'model.fit(scaled_train_samples, train_labels, validation_data = valid_set, batch_size=10, epochs=20, shuffle = True, verbose=2)'"
      ],
      "metadata": {
        "colab": {
          "base_uri": "https://localhost:8080/",
          "height": 35
        },
        "id": "6h6-j3uCpyY2",
        "outputId": "c30c27a6-8ff2-4020-efad-53862e4db2f3"
      },
      "execution_count": null,
      "outputs": [
        {
          "output_type": "execute_result",
          "data": {
            "text/plain": [
              "'model.fit(scaled_train_samples, train_labels, validation_data = valid_set, batch_size=10, epochs=20, shuffle = True, verbose=2)'"
            ],
            "application/vnd.google.colaboratory.intrinsic+json": {
              "type": "string"
            }
          },
          "metadata": {},
          "execution_count": 23
        }
      ]
    },
    {
      "cell_type": "code",
      "source": [
        "#valid_set format\n",
        "valid_set = [('sample','label'),('sample','label'),('sample','label'),('sample','label'),('sample','label'),('sample','label')]\n",
        "valid_set"
      ],
      "metadata": {
        "colab": {
          "base_uri": "https://localhost:8080/"
        },
        "id": "Yxc3cgmBqkue",
        "outputId": "2104fe24-cc75-4b02-dd95-8b8b6b79b8dd"
      },
      "execution_count": null,
      "outputs": [
        {
          "output_type": "execute_result",
          "data": {
            "text/plain": [
              "[('sample', 'label'),\n",
              " ('sample', 'label'),\n",
              " ('sample', 'label'),\n",
              " ('sample', 'label'),\n",
              " ('sample', 'label'),\n",
              " ('sample', 'label')]"
            ]
          },
          "metadata": {},
          "execution_count": 24
        }
      ]
    },
    {
      "cell_type": "code",
      "source": [],
      "metadata": {
        "id": "rf9P8zIEq62h"
      },
      "execution_count": null,
      "outputs": []
    },
    {
      "cell_type": "code",
      "source": [
        "#predict method"
      ],
      "metadata": {
        "id": "8WB1tp0hrSTR"
      },
      "execution_count": null,
      "outputs": []
    },
    {
      "cell_type": "code",
      "source": [
        "prediction = 'model.predict(scaled_train_samples,batch_size=10, verbose = 0)'\n",
        "prediction"
      ],
      "metadata": {
        "colab": {
          "base_uri": "https://localhost:8080/",
          "height": 35
        },
        "id": "H_VBfMl7rVuA",
        "outputId": "b1e147a2-3d1d-466e-fad4-13b568d30c37"
      },
      "execution_count": null,
      "outputs": [
        {
          "output_type": "execute_result",
          "data": {
            "text/plain": [
              "'model.predict(scaled_train_samples,batch_size=10, verbose = 0)'"
            ],
            "application/vnd.google.colaboratory.intrinsic+json": {
              "type": "string"
            }
          },
          "metadata": {},
          "execution_count": 27
        }
      ]
    },
    {
      "cell_type": "code",
      "source": [
        "#for prediction n test samples and seeing the results"
      ],
      "metadata": {
        "id": "YrcozuxvsDSi"
      },
      "execution_count": null,
      "outputs": []
    },
    {
      "cell_type": "code",
      "source": [
        "for i in prediction:\n",
        "  print(i)"
      ],
      "metadata": {
        "id": "tqJQcyALsDVR"
      },
      "execution_count": null,
      "outputs": []
    },
    {
      "cell_type": "code",
      "source": [],
      "metadata": {
        "id": "A58MVoHUsDNH"
      },
      "execution_count": null,
      "outputs": []
    },
    {
      "cell_type": "code",
      "source": [
        "#Overfitting in a NN"
      ],
      "metadata": {
        "id": "fa3jdIhitNsV"
      },
      "execution_count": null,
      "outputs": []
    },
    {
      "cell_type": "code",
      "source": [],
      "metadata": {
        "id": "Pq7kbYAStR4s"
      },
      "execution_count": null,
      "outputs": []
    }
  ]
}